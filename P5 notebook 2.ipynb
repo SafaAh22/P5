{
 "cells": [
  {
   "cell_type": "code",
   "execution_count": 1,
   "id": "8c772762",
   "metadata": {},
   "outputs": [],
   "source": [
    "import time\n",
    "import pandas as pd\n",
    "import nltk\n",
    "import matplotlib.pyplot as plt\n",
    "import numpy as np\n",
    "from nltk.corpus import stopwords\n",
    "from nltk.stem import *\n",
    "from nltk.stem.snowball import SnowballStemmer\n",
    "from nltk.stem import WordNetLemmatizer\n",
    "import joblib\n",
    "from sklearn.preprocessing import MultiLabelBinarizer"
   ]
  },
  {
   "cell_type": "code",
   "execution_count": 2,
   "id": "7f2eca60",
   "metadata": {},
   "outputs": [],
   "source": [
    "Data = joblib.load('dfcp.sav')"
   ]
  },
  {
   "cell_type": "code",
   "execution_count": 3,
   "id": "5087c06f",
   "metadata": {},
   "outputs": [],
   "source": [
    "df = Data.copy()"
   ]
  },
  {
   "cell_type": "code",
   "execution_count": 4,
   "id": "035a1162",
   "metadata": {},
   "outputs": [
    {
     "data": {
      "text/html": [
       "<div>\n",
       "<style scoped>\n",
       "    .dataframe tbody tr th:only-of-type {\n",
       "        vertical-align: middle;\n",
       "    }\n",
       "\n",
       "    .dataframe tbody tr th {\n",
       "        vertical-align: top;\n",
       "    }\n",
       "\n",
       "    .dataframe thead th {\n",
       "        text-align: right;\n",
       "    }\n",
       "</style>\n",
       "<table border=\"1\" class=\"dataframe\">\n",
       "  <thead>\n",
       "    <tr style=\"text-align: right;\">\n",
       "      <th></th>\n",
       "      <th>Title</th>\n",
       "      <th>Body</th>\n",
       "      <th>Tags</th>\n",
       "      <th>Body_words</th>\n",
       "      <th>Title_words</th>\n",
       "      <th>Body_words_join</th>\n",
       "      <th>Title_words_join</th>\n",
       "      <th>SL_Body</th>\n",
       "      <th>SL_Title</th>\n",
       "    </tr>\n",
       "  </thead>\n",
       "  <tbody>\n",
       "    <tr>\n",
       "      <th>0</th>\n",
       "      <td>Qt FullScreen on Startup</td>\n",
       "      <td>I want to start an application on fullscreen (...</td>\n",
       "      <td>&lt;c++&gt;</td>\n",
       "      <td>[start, application, fullscreen, MacOS, 10, 8,...</td>\n",
       "      <td>[Qt, FullScreen, Startup]</td>\n",
       "      <td>start application fullscreen MacOS 10 8 x Qt d...</td>\n",
       "      <td>Qt FullScreen Startup</td>\n",
       "      <td>[start, applic, fullscreen, maco, 10, 8, x, qt...</td>\n",
       "      <td>[qt, fullscreen, startup]</td>\n",
       "    </tr>\n",
       "    <tr>\n",
       "      <th>1</th>\n",
       "      <td>jQuery or Javascript - how to disable window s...</td>\n",
       "      <td>Hi is it possible to disable window scrolling ...</td>\n",
       "      <td>&lt;javascript&gt;&lt;jquery&gt;&lt;css&gt;</td>\n",
       "      <td>[Hi, possible, disable, window, scrolling, wit...</td>\n",
       "      <td>[Javascript, disable, window, scroll, overflow...</td>\n",
       "      <td>Hi possible disable window scrolling without o...</td>\n",
       "      <td>Javascript disable window scroll overflow hidden</td>\n",
       "      <td>[hi, possibl, disabl, window, scroll, without,...</td>\n",
       "      <td>[javascript, disabl, window, scroll, overflow,...</td>\n",
       "    </tr>\n",
       "    <tr>\n",
       "      <th>2</th>\n",
       "      <td>Python mock: mocking base class for inheritance</td>\n",
       "      <td>I am testing a class that inherits from anothe...</td>\n",
       "      <td>&lt;python&gt;</td>\n",
       "      <td>[testing, inherits, another, complex, DB, conn...</td>\n",
       "      <td>[mock, mocking, base, inheritance]</td>\n",
       "      <td>testing inherits another complex DB connection...</td>\n",
       "      <td>mock mocking base inheritance</td>\n",
       "      <td>[test, inherit, anoth, complex, db, connect, m...</td>\n",
       "      <td>[mock, mock, base, inherit]</td>\n",
       "    </tr>\n",
       "    <tr>\n",
       "      <th>3</th>\n",
       "      <td>Calling CreateProcessAsUser from C#</td>\n",
       "      <td>I've been attempting to create a new process u...</td>\n",
       "      <td>&lt;c#&gt;</td>\n",
       "      <td>[attempting, create, process, context, specifi...</td>\n",
       "      <td>[Calling, CreateProcessAsUser]</td>\n",
       "      <td>attempting create process context specific Cre...</td>\n",
       "      <td>Calling CreateProcessAsUser</td>\n",
       "      <td>[attempt, creat, process, context, specif, cre...</td>\n",
       "      <td>[call, createprocessasus]</td>\n",
       "    </tr>\n",
       "    <tr>\n",
       "      <th>4</th>\n",
       "      <td>How does Facebook keep the header and footer f...</td>\n",
       "      <td>When browsing through Facebook pages the heade...</td>\n",
       "      <td>&lt;javascript&gt;&lt;html&gt;</td>\n",
       "      <td>[When, browsing, Facebook, pages, header, fixe...</td>\n",
       "      <td>[Facebook, keep, header, footer, fixed, loadin...</td>\n",
       "      <td>When browsing Facebook pages header fixed foot...</td>\n",
       "      <td>Facebook keep header footer fixed loading diff...</td>\n",
       "      <td>[when, brow, facebook, page, header, fix, foot...</td>\n",
       "      <td>[facebook, keep, header, footer, fix, load, di...</td>\n",
       "    </tr>\n",
       "    <tr>\n",
       "      <th>...</th>\n",
       "      <td>...</td>\n",
       "      <td>...</td>\n",
       "      <td>...</td>\n",
       "      <td>...</td>\n",
       "      <td>...</td>\n",
       "      <td>...</td>\n",
       "      <td>...</td>\n",
       "      <td>...</td>\n",
       "      <td>...</td>\n",
       "    </tr>\n",
       "    <tr>\n",
       "      <th>49994</th>\n",
       "      <td>Why would you choose the Java programming lang...</td>\n",
       "      <td>Why would you choose java over others? Why did...</td>\n",
       "      <td>&lt;java&gt;&gt;</td>\n",
       "      <td>[Why, choose, others, Why, choose, program, ap...</td>\n",
       "      <td>[would, choose, programming, language, others]</td>\n",
       "      <td>Why choose others Why choose program applicati...</td>\n",
       "      <td>would choose programming language others</td>\n",
       "      <td>[whi, choos, other, whi, choos, program, appli...</td>\n",
       "      <td>[would, choos, program, languag, other]</td>\n",
       "    </tr>\n",
       "    <tr>\n",
       "      <th>49995</th>\n",
       "      <td>How do I do a deep copy of an element in LINQ ...</td>\n",
       "      <td>I want to make a deep copy of a LINQ to XML XE...</td>\n",
       "      <td>&lt;.net&gt;</td>\n",
       "      <td>[make, deep, copy, LINQ, XML, XElement, reason...</td>\n",
       "      <td>[deep, copy, element, LINQ, XML]</td>\n",
       "      <td>make deep copy LINQ XML XElement reason nodes ...</td>\n",
       "      <td>deep copy element LINQ XML</td>\n",
       "      <td>[make, deep, copi, linq, xml, xelement, reason...</td>\n",
       "      <td>[deep, copi, element, linq, xml]</td>\n",
       "    </tr>\n",
       "    <tr>\n",
       "      <th>49996</th>\n",
       "      <td>Steps to make a LED blink from a C/C++ program?</td>\n",
       "      <td>What are the easiest steps to make a small cir...</td>\n",
       "      <td>&lt;c++&gt;&lt;c&gt;</td>\n",
       "      <td>[easiest, steps, make, small, circuit, LED, fl...</td>\n",
       "      <td>[Steps, LED, blink, program]</td>\n",
       "      <td>easiest steps make small circuit LED flash pro...</td>\n",
       "      <td>Steps LED blink program</td>\n",
       "      <td>[easiest, step, make, small, circuit, led, fla...</td>\n",
       "      <td>[step, led, blink, program]</td>\n",
       "    </tr>\n",
       "    <tr>\n",
       "      <th>49997</th>\n",
       "      <td>Passing List&lt;&gt; to SQL Stored Procedure</td>\n",
       "      <td>I've often had to load multiple items to a par...</td>\n",
       "      <td>&lt;c#&gt;&lt;sql&gt;&lt;sql-server&gt;</td>\n",
       "      <td>[often, load, multiple, items, particular, rec...</td>\n",
       "      <td>[Passing, List, Stored, Procedure]</td>\n",
       "      <td>often load multiple items particular record da...</td>\n",
       "      <td>Passing List Stored Procedure</td>\n",
       "      <td>[often, load, multipl, item, particular, recor...</td>\n",
       "      <td>[pas, list, store, procedur]</td>\n",
       "    </tr>\n",
       "    <tr>\n",
       "      <th>49998</th>\n",
       "      <td>Why am I seeing inconsistent JavaScript logic ...</td>\n",
       "      <td>I have code similar to this filtering entries ...</td>\n",
       "      <td>&lt;javascript&gt;</td>\n",
       "      <td>[similar, filtering, entries, Array, Objects, ...</td>\n",
       "      <td>[seeing, inconsistent, logic, behavior, loopin...</td>\n",
       "      <td>similar filtering entries Array Objects var fi...</td>\n",
       "      <td>seeing inconsistent logic behavior looping alert</td>\n",
       "      <td>[similar, filter, entri, array, object, var, f...</td>\n",
       "      <td>[see, inconsist, logic, behavior, loop, alert]</td>\n",
       "    </tr>\n",
       "  </tbody>\n",
       "</table>\n",
       "<p>35346 rows × 9 columns</p>\n",
       "</div>"
      ],
      "text/plain": [
       "                                                   Title  \\\n",
       "0                               Qt FullScreen on Startup   \n",
       "1      jQuery or Javascript - how to disable window s...   \n",
       "2        Python mock: mocking base class for inheritance   \n",
       "3                    Calling CreateProcessAsUser from C#   \n",
       "4      How does Facebook keep the header and footer f...   \n",
       "...                                                  ...   \n",
       "49994  Why would you choose the Java programming lang...   \n",
       "49995  How do I do a deep copy of an element in LINQ ...   \n",
       "49996    Steps to make a LED blink from a C/C++ program?   \n",
       "49997             Passing List<> to SQL Stored Procedure   \n",
       "49998  Why am I seeing inconsistent JavaScript logic ...   \n",
       "\n",
       "                                                    Body  \\\n",
       "0      I want to start an application on fullscreen (...   \n",
       "1      Hi is it possible to disable window scrolling ...   \n",
       "2      I am testing a class that inherits from anothe...   \n",
       "3      I've been attempting to create a new process u...   \n",
       "4      When browsing through Facebook pages the heade...   \n",
       "...                                                  ...   \n",
       "49994  Why would you choose java over others? Why did...   \n",
       "49995  I want to make a deep copy of a LINQ to XML XE...   \n",
       "49996  What are the easiest steps to make a small cir...   \n",
       "49997  I've often had to load multiple items to a par...   \n",
       "49998  I have code similar to this filtering entries ...   \n",
       "\n",
       "                            Tags  \\\n",
       "0                          <c++>   \n",
       "1      <javascript><jquery><css>   \n",
       "2                       <python>   \n",
       "3                           <c#>   \n",
       "4             <javascript><html>   \n",
       "...                          ...   \n",
       "49994                    <java>>   \n",
       "49995                     <.net>   \n",
       "49996                   <c++><c>   \n",
       "49997      <c#><sql><sql-server>   \n",
       "49998               <javascript>   \n",
       "\n",
       "                                              Body_words  \\\n",
       "0      [start, application, fullscreen, MacOS, 10, 8,...   \n",
       "1      [Hi, possible, disable, window, scrolling, wit...   \n",
       "2      [testing, inherits, another, complex, DB, conn...   \n",
       "3      [attempting, create, process, context, specifi...   \n",
       "4      [When, browsing, Facebook, pages, header, fixe...   \n",
       "...                                                  ...   \n",
       "49994  [Why, choose, others, Why, choose, program, ap...   \n",
       "49995  [make, deep, copy, LINQ, XML, XElement, reason...   \n",
       "49996  [easiest, steps, make, small, circuit, LED, fl...   \n",
       "49997  [often, load, multiple, items, particular, rec...   \n",
       "49998  [similar, filtering, entries, Array, Objects, ...   \n",
       "\n",
       "                                             Title_words  \\\n",
       "0                              [Qt, FullScreen, Startup]   \n",
       "1      [Javascript, disable, window, scroll, overflow...   \n",
       "2                     [mock, mocking, base, inheritance]   \n",
       "3                         [Calling, CreateProcessAsUser]   \n",
       "4      [Facebook, keep, header, footer, fixed, loadin...   \n",
       "...                                                  ...   \n",
       "49994     [would, choose, programming, language, others]   \n",
       "49995                   [deep, copy, element, LINQ, XML]   \n",
       "49996                       [Steps, LED, blink, program]   \n",
       "49997                 [Passing, List, Stored, Procedure]   \n",
       "49998  [seeing, inconsistent, logic, behavior, loopin...   \n",
       "\n",
       "                                         Body_words_join  \\\n",
       "0      start application fullscreen MacOS 10 8 x Qt d...   \n",
       "1      Hi possible disable window scrolling without o...   \n",
       "2      testing inherits another complex DB connection...   \n",
       "3      attempting create process context specific Cre...   \n",
       "4      When browsing Facebook pages header fixed foot...   \n",
       "...                                                  ...   \n",
       "49994  Why choose others Why choose program applicati...   \n",
       "49995  make deep copy LINQ XML XElement reason nodes ...   \n",
       "49996  easiest steps make small circuit LED flash pro...   \n",
       "49997  often load multiple items particular record da...   \n",
       "49998  similar filtering entries Array Objects var fi...   \n",
       "\n",
       "                                        Title_words_join  \\\n",
       "0                                  Qt FullScreen Startup   \n",
       "1       Javascript disable window scroll overflow hidden   \n",
       "2                          mock mocking base inheritance   \n",
       "3                            Calling CreateProcessAsUser   \n",
       "4      Facebook keep header footer fixed loading diff...   \n",
       "...                                                  ...   \n",
       "49994           would choose programming language others   \n",
       "49995                         deep copy element LINQ XML   \n",
       "49996                            Steps LED blink program   \n",
       "49997                      Passing List Stored Procedure   \n",
       "49998   seeing inconsistent logic behavior looping alert   \n",
       "\n",
       "                                                 SL_Body  \\\n",
       "0      [start, applic, fullscreen, maco, 10, 8, x, qt...   \n",
       "1      [hi, possibl, disabl, window, scroll, without,...   \n",
       "2      [test, inherit, anoth, complex, db, connect, m...   \n",
       "3      [attempt, creat, process, context, specif, cre...   \n",
       "4      [when, brow, facebook, page, header, fix, foot...   \n",
       "...                                                  ...   \n",
       "49994  [whi, choos, other, whi, choos, program, appli...   \n",
       "49995  [make, deep, copi, linq, xml, xelement, reason...   \n",
       "49996  [easiest, step, make, small, circuit, led, fla...   \n",
       "49997  [often, load, multipl, item, particular, recor...   \n",
       "49998  [similar, filter, entri, array, object, var, f...   \n",
       "\n",
       "                                                SL_Title  \n",
       "0                              [qt, fullscreen, startup]  \n",
       "1      [javascript, disabl, window, scroll, overflow,...  \n",
       "2                            [mock, mock, base, inherit]  \n",
       "3                              [call, createprocessasus]  \n",
       "4      [facebook, keep, header, footer, fix, load, di...  \n",
       "...                                                  ...  \n",
       "49994            [would, choos, program, languag, other]  \n",
       "49995                   [deep, copi, element, linq, xml]  \n",
       "49996                        [step, led, blink, program]  \n",
       "49997                       [pas, list, store, procedur]  \n",
       "49998     [see, inconsist, logic, behavior, loop, alert]  \n",
       "\n",
       "[35346 rows x 9 columns]"
      ]
     },
     "execution_count": 4,
     "metadata": {},
     "output_type": "execute_result"
    }
   ],
   "source": [
    "df"
   ]
  },
  {
   "cell_type": "code",
   "execution_count": 5,
   "id": "866e0062",
   "metadata": {},
   "outputs": [],
   "source": [
    "df['question'] = df['SL_Body'] + df['SL_Title']"
   ]
  },
  {
   "cell_type": "code",
   "execution_count": 6,
   "id": "ff4a378f",
   "metadata": {},
   "outputs": [],
   "source": [
    "df['Tags'] = df['Tags'].str.strip('<>').str.split('><')"
   ]
  },
  {
   "cell_type": "code",
   "execution_count": 7,
   "id": "4d90ca79",
   "metadata": {},
   "outputs": [
    {
     "data": {
      "text/plain": [
       "0                            [c++]\n",
       "1        [javascript, jquery, css]\n",
       "2                         [python]\n",
       "3                             [c#]\n",
       "4               [javascript, html]\n",
       "                   ...            \n",
       "49994                       [java]\n",
       "49995                       [.net]\n",
       "49996                     [c++, c]\n",
       "49997        [c#, sql, sql-server]\n",
       "49998                 [javascript]\n",
       "Name: Tags, Length: 35346, dtype: object"
      ]
     },
     "execution_count": 7,
     "metadata": {},
     "output_type": "execute_result"
    }
   ],
   "source": [
    "df['Tags']"
   ]
  },
  {
   "cell_type": "code",
   "execution_count": 8,
   "id": "5e0bcd37",
   "metadata": {},
   "outputs": [],
   "source": [
    "mlb = MultiLabelBinarizer()\n",
    "\n",
    "# Apply MultiLabelBinarizer to 'Tags' column\n",
    "tags_df = pd.DataFrame(mlb.fit_transform(df['Tags']), columns=mlb.classes_, index=df.index)\n",
    "\n",
    "# Concatenate original DataFrame with tags DataFrame\n",
    "df = pd.concat([df, tags_df], axis=1)"
   ]
  },
  {
   "cell_type": "code",
   "execution_count": 9,
   "id": "074f13d5",
   "metadata": {},
   "outputs": [],
   "source": [
    "df['question'] = df['question'].apply(' '.join)"
   ]
  },
  {
   "cell_type": "code",
   "execution_count": 10,
   "id": "f02e02a5",
   "metadata": {},
   "outputs": [],
   "source": [
    "X = df.question\n",
    "Y = tags_df"
   ]
  },
  {
   "cell_type": "markdown",
   "id": "7b384a33",
   "metadata": {},
   "source": [
    "# Unsupervided Method"
   ]
  },
  {
   "cell_type": "markdown",
   "id": "0af1fef8",
   "metadata": {},
   "source": [
    "## LDA"
   ]
  },
  {
   "cell_type": "code",
   "execution_count": 11,
   "id": "8f3d372b",
   "metadata": {},
   "outputs": [],
   "source": [
    "from sklearn.feature_extraction.text import TfidfVectorizer\n",
    "tfidf_vec = TfidfVectorizer(max_df = 0.95, min_df = 0.01 , stop_words = 'english')\n",
    "X_fited = tfidf_vec.fit_transform(X)\n",
    "\n",
    "from sklearn.decomposition import LatentDirichletAllocation\n",
    "lda = LatentDirichletAllocation(n_components = 10,max_iter=5,learning_method='online',learning_offset=50,random_state = 0).fit(X_fited)"
   ]
  },
  {
   "cell_type": "code",
   "execution_count": 12,
   "id": "aabfece4",
   "metadata": {},
   "outputs": [
    {
     "name": "stdout",
     "output_type": "stream",
     "text": [
      "Topic 0:\n",
      "project applic net librari build web develop test run version\n",
      "Topic 1:\n",
      "std object compil method const variabl implement static differ void\n",
      "Topic 2:\n",
      "tabl column queri sql databas select row mysql insert store\n",
      "Topic 3:\n",
      "thread process line run print window program output command read\n",
      "Topic 4:\n",
      "self method object request foo void string properti privat test\n",
      "Topic 5:\n",
      "array list number string element valu item key integ iter\n",
      "Topic 6:\n",
      "imag div git color cs width height style text background\n",
      "Topic 7:\n",
      "instal directori file modul path py python packag lib import\n",
      "Topic 8:\n",
      "page html button event form javascript click jqueri url input\n",
      "Topic 9:\n",
      "date datetim convert format json day time 12 serial 11\n"
     ]
    }
   ],
   "source": [
    " def display_topics(model, feature_names, no_top_words):\n",
    "    for topic_idx, topic in enumerate(model.components_):\n",
    "        print(\"Topic {}:\".format(topic_idx))\n",
    "        print(\" \".join([feature_names[i] for i in topic.argsort()[:-no_top_words - 1:-1]]))\n",
    "\n",
    "no_top_words = 10\n",
    "display_topics(lda, tfidf_vec.get_feature_names_out(), no_top_words)"
   ]
  },
  {
   "cell_type": "markdown",
   "id": "bebe4c50",
   "metadata": {},
   "source": [
    "## NMF"
   ]
  },
  {
   "cell_type": "code",
   "execution_count": 13,
   "id": "969e853d",
   "metadata": {},
   "outputs": [
    {
     "data": {
      "text/html": [
       "<style>#sk-container-id-1 {color: black;background-color: white;}#sk-container-id-1 pre{padding: 0;}#sk-container-id-1 div.sk-toggleable {background-color: white;}#sk-container-id-1 label.sk-toggleable__label {cursor: pointer;display: block;width: 100%;margin-bottom: 0;padding: 0.3em;box-sizing: border-box;text-align: center;}#sk-container-id-1 label.sk-toggleable__label-arrow:before {content: \"▸\";float: left;margin-right: 0.25em;color: #696969;}#sk-container-id-1 label.sk-toggleable__label-arrow:hover:before {color: black;}#sk-container-id-1 div.sk-estimator:hover label.sk-toggleable__label-arrow:before {color: black;}#sk-container-id-1 div.sk-toggleable__content {max-height: 0;max-width: 0;overflow: hidden;text-align: left;background-color: #f0f8ff;}#sk-container-id-1 div.sk-toggleable__content pre {margin: 0.2em;color: black;border-radius: 0.25em;background-color: #f0f8ff;}#sk-container-id-1 input.sk-toggleable__control:checked~div.sk-toggleable__content {max-height: 200px;max-width: 100%;overflow: auto;}#sk-container-id-1 input.sk-toggleable__control:checked~label.sk-toggleable__label-arrow:before {content: \"▾\";}#sk-container-id-1 div.sk-estimator input.sk-toggleable__control:checked~label.sk-toggleable__label {background-color: #d4ebff;}#sk-container-id-1 div.sk-label input.sk-toggleable__control:checked~label.sk-toggleable__label {background-color: #d4ebff;}#sk-container-id-1 input.sk-hidden--visually {border: 0;clip: rect(1px 1px 1px 1px);clip: rect(1px, 1px, 1px, 1px);height: 1px;margin: -1px;overflow: hidden;padding: 0;position: absolute;width: 1px;}#sk-container-id-1 div.sk-estimator {font-family: monospace;background-color: #f0f8ff;border: 1px dotted black;border-radius: 0.25em;box-sizing: border-box;margin-bottom: 0.5em;}#sk-container-id-1 div.sk-estimator:hover {background-color: #d4ebff;}#sk-container-id-1 div.sk-parallel-item::after {content: \"\";width: 100%;border-bottom: 1px solid gray;flex-grow: 1;}#sk-container-id-1 div.sk-label:hover label.sk-toggleable__label {background-color: #d4ebff;}#sk-container-id-1 div.sk-serial::before {content: \"\";position: absolute;border-left: 1px solid gray;box-sizing: border-box;top: 0;bottom: 0;left: 50%;z-index: 0;}#sk-container-id-1 div.sk-serial {display: flex;flex-direction: column;align-items: center;background-color: white;padding-right: 0.2em;padding-left: 0.2em;position: relative;}#sk-container-id-1 div.sk-item {position: relative;z-index: 1;}#sk-container-id-1 div.sk-parallel {display: flex;align-items: stretch;justify-content: center;background-color: white;position: relative;}#sk-container-id-1 div.sk-item::before, #sk-container-id-1 div.sk-parallel-item::before {content: \"\";position: absolute;border-left: 1px solid gray;box-sizing: border-box;top: 0;bottom: 0;left: 50%;z-index: -1;}#sk-container-id-1 div.sk-parallel-item {display: flex;flex-direction: column;z-index: 1;position: relative;background-color: white;}#sk-container-id-1 div.sk-parallel-item:first-child::after {align-self: flex-end;width: 50%;}#sk-container-id-1 div.sk-parallel-item:last-child::after {align-self: flex-start;width: 50%;}#sk-container-id-1 div.sk-parallel-item:only-child::after {width: 0;}#sk-container-id-1 div.sk-dashed-wrapped {border: 1px dashed gray;margin: 0 0.4em 0.5em 0.4em;box-sizing: border-box;padding-bottom: 0.4em;background-color: white;}#sk-container-id-1 div.sk-label label {font-family: monospace;font-weight: bold;display: inline-block;line-height: 1.2em;}#sk-container-id-1 div.sk-label-container {text-align: center;}#sk-container-id-1 div.sk-container {/* jupyter's `normalize.less` sets `[hidden] { display: none; }` but bootstrap.min.css set `[hidden] { display: none !important; }` so we also need the `!important` here to be able to override the default hidden behavior on the sphinx rendered scikit-learn.org. See: https://github.com/scikit-learn/scikit-learn/issues/21755 */display: inline-block !important;position: relative;}#sk-container-id-1 div.sk-text-repr-fallback {display: none;}</style><div id=\"sk-container-id-1\" class=\"sk-top-container\"><div class=\"sk-text-repr-fallback\"><pre>NMF(init=&#x27;nndsvd&#x27;, l1_ratio=0.5, n_components=10, random_state=1)</pre><b>In a Jupyter environment, please rerun this cell to show the HTML representation or trust the notebook. <br />On GitHub, the HTML representation is unable to render, please try loading this page with nbviewer.org.</b></div><div class=\"sk-container\" hidden><div class=\"sk-item\"><div class=\"sk-estimator sk-toggleable\"><input class=\"sk-toggleable__control sk-hidden--visually\" id=\"sk-estimator-id-1\" type=\"checkbox\" checked><label for=\"sk-estimator-id-1\" class=\"sk-toggleable__label sk-toggleable__label-arrow\">NMF</label><div class=\"sk-toggleable__content\"><pre>NMF(init=&#x27;nndsvd&#x27;, l1_ratio=0.5, n_components=10, random_state=1)</pre></div></div></div></div></div>"
      ],
      "text/plain": [
       "NMF(init='nndsvd', l1_ratio=0.5, n_components=10, random_state=1)"
      ]
     },
     "execution_count": 13,
     "metadata": {},
     "output_type": "execute_result"
    }
   ],
   "source": [
    "from sklearn.decomposition import NMF\n",
    "nmf = NMF(n_components=10, random_state=1, l1_ratio=.5, init='nndsvd')\n",
    "nmf.fit(X_fited)"
   ]
  },
  {
   "cell_type": "code",
   "execution_count": 14,
   "id": "adb448a2",
   "metadata": {},
   "outputs": [
    {
     "name": "stdout",
     "output_type": "stream",
     "text": [
      "Topic 0:\n",
      "page\n",
      "Topic 1:\n",
      "div\n",
      "Topic 2:\n",
      "array\n",
      "Topic 3:\n",
      "tabl\n",
      "Topic 4:\n",
      "imag\n",
      "Topic 5:\n",
      "run\n",
      "Topic 6:\n",
      "git\n",
      "Topic 7:\n",
      "object\n",
      "Topic 8:\n",
      "list\n",
      "Topic 9:\n",
      "test\n"
     ]
    }
   ],
   "source": [
    "no_top_words = 1\n",
    "display_topics(nmf, tfidf_vec.get_feature_names_out(), no_top_words)"
   ]
  },
  {
   "cell_type": "markdown",
   "id": "8b6af925",
   "metadata": {},
   "source": [
    "# Supervised Method"
   ]
  },
  {
   "cell_type": "markdown",
   "id": "a0611dae",
   "metadata": {},
   "source": [
    "## Train/Test Split"
   ]
  },
  {
   "cell_type": "code",
   "execution_count": 15,
   "id": "70d256eb",
   "metadata": {},
   "outputs": [],
   "source": [
    "from sklearn.model_selection import train_test_split\n",
    "X_train, X_test, y_train, y_test = train_test_split(list(X), Y, test_size=0.33, random_state=42)"
   ]
  },
  {
   "cell_type": "markdown",
   "id": "24aafe47",
   "metadata": {},
   "source": [
    "## TF-IDF"
   ]
  },
  {
   "cell_type": "code",
   "execution_count": 16,
   "id": "1003ba01",
   "metadata": {},
   "outputs": [],
   "source": [
    "from sklearn.feature_extraction.text import TfidfVectorizer\n",
    "vectorizer = TfidfVectorizer()\n",
    "X_train = vectorizer.fit_transform(X_train)\n",
    "X_test = vectorizer.transform(X_test)"
   ]
  },
  {
   "cell_type": "markdown",
   "id": "544d2d57",
   "metadata": {},
   "source": [
    "# Scores"
   ]
  },
  {
   "cell_type": "code",
   "execution_count": 17,
   "id": "2f2c563c",
   "metadata": {},
   "outputs": [],
   "source": [
    "import sklearn.metrics as metrics\n",
    "from sklearn.metrics import f1_score\n",
    "from sklearn.metrics import accuracy_score\n",
    "from sklearn.metrics import precision_score\n",
    "from sklearn.metrics import recall_score\n",
    "from sklearn.metrics import jaccard_score\n",
    "\n",
    "# list of unique tags\n",
    "categories = list(Y.columns.values)\n",
    "\n",
    "# list of metrics used to compare model performance\n",
    "scores = ['f1','accuracy','precision','recall','fitting_duration', 'jaccard']\n",
    "\n",
    "DfScore = pd.DataFrame(columns=['NameModel','f1','accuracy','precision','recall','fitting_duration', 'jaccard'])\n",
    "\n",
    "\n",
    "# scores dataframe for MultioutputClassifier\n",
    "LinearSVC_scores_moc = pd.DataFrame(columns=scores)\n",
    "MultinomialNB_scores_moc = pd.DataFrame(columns=scores)\n",
    "Logistic_regression_scores_moc = pd.DataFrame(columns=scores)\n",
    "\n",
    "# scores dataframe for chain classifier\n",
    "LinearSVC_scores_ch = pd.DataFrame(columns=scores)\n",
    "MultinomialNB_scores_ch = pd.DataFrame(columns=scores)\n",
    "Logistic_regression_scores_ch = pd.DataFrame(columns=scores)"
   ]
  },
  {
   "cell_type": "markdown",
   "id": "9382821f",
   "metadata": {},
   "source": [
    "# Classifier Chain"
   ]
  },
  {
   "cell_type": "markdown",
   "id": "0d0fd971",
   "metadata": {},
   "source": [
    "## LinearSVC"
   ]
  },
  {
   "cell_type": "code",
   "execution_count": 18,
   "id": "2d2110c7",
   "metadata": {},
   "outputs": [],
   "source": [
    "from sklearn.svm import LinearSVC\n",
    "from sklearn.multioutput import ClassifierChain\n",
    "base_clf = LinearSVC(random_state=0,max_iter=1000, tol=1e-5)\n",
    "chain = ClassifierChain(base_clf, order='random', random_state=0)\n",
    "start = time.time()\n",
    "chain.fit(X_train,y_train)\n",
    "end = time.time()"
   ]
  },
  {
   "cell_type": "code",
   "execution_count": 19,
   "id": "9bf0187d",
   "metadata": {},
   "outputs": [],
   "source": [
    "prediction = chain.predict(X_test)"
   ]
  },
  {
   "cell_type": "code",
   "execution_count": 20,
   "id": "029d7442",
   "metadata": {},
   "outputs": [],
   "source": [
    "f1 = []\n",
    "accuracy = []\n",
    "precision = []\n",
    "recall = []\n",
    "jaccard = []\n",
    "\n",
    "f1.append(f1_score(y_test,prediction,average='weighted'))\n",
    "accuracy.append(accuracy_score(y_test,prediction))\n",
    "precision.append(precision_score(y_test,prediction,average='weighted'))\n",
    "recall.append(recall_score(y_test,prediction,average='weighted'))\n",
    "jaccard.append(jaccard_score(y_test, prediction, average='weighted'))  # Compute Jaccard score\n",
    "\n",
    "LinearSVC_scores_ch['f1']=f1\n",
    "LinearSVC_scores_ch['accuracy']=accuracy\n",
    "LinearSVC_scores_ch['precision']=precision\n",
    "LinearSVC_scores_ch['recall'] = recall\n",
    "LinearSVC_scores_ch['fitting_duration'] = end-start\n",
    "LinearSVC_scores_ch['jaccard'] = jaccard "
   ]
  },
  {
   "cell_type": "code",
   "execution_count": 21,
   "id": "a6348292",
   "metadata": {
    "scrolled": true
   },
   "outputs": [
    {
     "data": {
      "text/html": [
       "<div>\n",
       "<style scoped>\n",
       "    .dataframe tbody tr th:only-of-type {\n",
       "        vertical-align: middle;\n",
       "    }\n",
       "\n",
       "    .dataframe tbody tr th {\n",
       "        vertical-align: top;\n",
       "    }\n",
       "\n",
       "    .dataframe thead th {\n",
       "        text-align: right;\n",
       "    }\n",
       "</style>\n",
       "<table border=\"1\" class=\"dataframe\">\n",
       "  <thead>\n",
       "    <tr style=\"text-align: right;\">\n",
       "      <th></th>\n",
       "      <th>f1</th>\n",
       "      <th>accuracy</th>\n",
       "      <th>precision</th>\n",
       "      <th>recall</th>\n",
       "      <th>fitting_duration</th>\n",
       "      <th>jaccard</th>\n",
       "    </tr>\n",
       "  </thead>\n",
       "  <tbody>\n",
       "    <tr>\n",
       "      <th>0</th>\n",
       "      <td>0.651025</td>\n",
       "      <td>0.494128</td>\n",
       "      <td>0.723946</td>\n",
       "      <td>0.611757</td>\n",
       "      <td>2.471165</td>\n",
       "      <td>0.502229</td>\n",
       "    </tr>\n",
       "  </tbody>\n",
       "</table>\n",
       "</div>"
      ],
      "text/plain": [
       "         f1  accuracy  precision    recall  fitting_duration   jaccard\n",
       "0  0.651025  0.494128   0.723946  0.611757          2.471165  0.502229"
      ]
     },
     "execution_count": 21,
     "metadata": {},
     "output_type": "execute_result"
    }
   ],
   "source": [
    "LinearSVC_scores_ch"
   ]
  },
  {
   "cell_type": "code",
   "execution_count": 22,
   "id": "d349a083",
   "metadata": {},
   "outputs": [
    {
     "data": {
      "text/html": [
       "<div>\n",
       "<style scoped>\n",
       "    .dataframe tbody tr th:only-of-type {\n",
       "        vertical-align: middle;\n",
       "    }\n",
       "\n",
       "    .dataframe tbody tr th {\n",
       "        vertical-align: top;\n",
       "    }\n",
       "\n",
       "    .dataframe thead th {\n",
       "        text-align: right;\n",
       "    }\n",
       "</style>\n",
       "<table border=\"1\" class=\"dataframe\">\n",
       "  <thead>\n",
       "    <tr style=\"text-align: right;\">\n",
       "      <th></th>\n",
       "      <th>NameModel</th>\n",
       "      <th>f1</th>\n",
       "      <th>accuracy</th>\n",
       "      <th>precision</th>\n",
       "      <th>recall</th>\n",
       "      <th>fitting_duration</th>\n",
       "      <th>jaccard</th>\n",
       "    </tr>\n",
       "  </thead>\n",
       "  <tbody>\n",
       "    <tr>\n",
       "      <th>0</th>\n",
       "      <td>LinearSVC1</td>\n",
       "      <td>[0.6510249754411733]</td>\n",
       "      <td>[0.494127732533219]</td>\n",
       "      <td>[0.7239464978569428]</td>\n",
       "      <td>[0.6117569786535304]</td>\n",
       "      <td>2.471165</td>\n",
       "      <td>[0.5022289949873799]</td>\n",
       "    </tr>\n",
       "  </tbody>\n",
       "</table>\n",
       "</div>"
      ],
      "text/plain": [
       "    NameModel                    f1             accuracy  \\\n",
       "0  LinearSVC1  [0.6510249754411733]  [0.494127732533219]   \n",
       "\n",
       "              precision                recall  fitting_duration  \\\n",
       "0  [0.7239464978569428]  [0.6117569786535304]          2.471165   \n",
       "\n",
       "                jaccard  \n",
       "0  [0.5022289949873799]  "
      ]
     },
     "execution_count": 22,
     "metadata": {},
     "output_type": "execute_result"
    }
   ],
   "source": [
    "DfScore.loc[len(DfScore.index)] = {'NameModel':'LinearSVC1', 'f1':f1, 'accuracy':accuracy, 'precision':precision, 'recall':recall, 'fitting_duration':end-start, 'jaccard':jaccard}\n",
    "DfScore"
   ]
  },
  {
   "cell_type": "markdown",
   "id": "2246e587",
   "metadata": {},
   "source": [
    "## MultinomialNB"
   ]
  },
  {
   "cell_type": "code",
   "execution_count": 23,
   "id": "4a0c4759",
   "metadata": {},
   "outputs": [],
   "source": [
    "from sklearn.naive_bayes import MultinomialNB\n",
    "from sklearn.multioutput import ClassifierChain\n",
    "base_clf = MultinomialNB()\n",
    "chain = ClassifierChain(base_clf, order='random', random_state=0)\n",
    "start = time.time()\n",
    "chain.fit(X_train,y_train)\n",
    "end = time.time()"
   ]
  },
  {
   "cell_type": "code",
   "execution_count": 24,
   "id": "914d8256",
   "metadata": {},
   "outputs": [],
   "source": [
    "prediction = chain.predict(X_test)"
   ]
  },
  {
   "cell_type": "code",
   "execution_count": 25,
   "id": "3670dd69",
   "metadata": {},
   "outputs": [
    {
     "name": "stderr",
     "output_type": "stream",
     "text": [
      "C:\\Users\\aikim\\anaconda3\\lib\\site-packages\\sklearn\\metrics\\_classification.py:1344: UndefinedMetricWarning: Precision is ill-defined and being set to 0.0 in labels with no predicted samples. Use `zero_division` parameter to control this behavior.\n",
      "  _warn_prf(average, modifier, msg_start, len(result))\n"
     ]
    }
   ],
   "source": [
    "f1 = []\n",
    "accuracy = []\n",
    "precision = []\n",
    "recall = []\n",
    "jaccard = []\n",
    "\n",
    "f1.append(f1_score(y_test,prediction,average='weighted'))\n",
    "accuracy.append(accuracy_score(y_test,prediction))\n",
    "precision.append(precision_score(y_test,prediction,average='weighted'))\n",
    "recall.append(recall_score(y_test,prediction,average='weighted'))\n",
    "jaccard.append(jaccard_score(y_test, prediction, average='weighted'))  # Compute Jaccard score\n",
    "\n",
    "MultinomialNB_scores_ch['f1']=f1\n",
    "MultinomialNB_scores_ch['accuracy']=accuracy\n",
    "MultinomialNB_scores_ch['precision']=precision\n",
    "MultinomialNB_scores_ch['recall'] = recall\n",
    "MultinomialNB_scores_ch['fitting_duration'] = end-start\n",
    "MultinomialNB_scores_ch['jaccard'] = jaccard "
   ]
  },
  {
   "cell_type": "code",
   "execution_count": 26,
   "id": "eeb4dcb0",
   "metadata": {},
   "outputs": [
    {
     "data": {
      "text/html": [
       "<div>\n",
       "<style scoped>\n",
       "    .dataframe tbody tr th:only-of-type {\n",
       "        vertical-align: middle;\n",
       "    }\n",
       "\n",
       "    .dataframe tbody tr th {\n",
       "        vertical-align: top;\n",
       "    }\n",
       "\n",
       "    .dataframe thead th {\n",
       "        text-align: right;\n",
       "    }\n",
       "</style>\n",
       "<table border=\"1\" class=\"dataframe\">\n",
       "  <thead>\n",
       "    <tr style=\"text-align: right;\">\n",
       "      <th></th>\n",
       "      <th>f1</th>\n",
       "      <th>accuracy</th>\n",
       "      <th>precision</th>\n",
       "      <th>recall</th>\n",
       "      <th>fitting_duration</th>\n",
       "      <th>jaccard</th>\n",
       "    </tr>\n",
       "  </thead>\n",
       "  <tbody>\n",
       "    <tr>\n",
       "      <th>0</th>\n",
       "      <td>0.013696</td>\n",
       "      <td>0.008573</td>\n",
       "      <td>0.364002</td>\n",
       "      <td>0.007094</td>\n",
       "      <td>0.650097</td>\n",
       "      <td>0.007091</td>\n",
       "    </tr>\n",
       "  </tbody>\n",
       "</table>\n",
       "</div>"
      ],
      "text/plain": [
       "         f1  accuracy  precision    recall  fitting_duration   jaccard\n",
       "0  0.013696  0.008573   0.364002  0.007094          0.650097  0.007091"
      ]
     },
     "execution_count": 26,
     "metadata": {},
     "output_type": "execute_result"
    }
   ],
   "source": [
    "MultinomialNB_scores_ch"
   ]
  },
  {
   "cell_type": "code",
   "execution_count": 27,
   "id": "80befbca",
   "metadata": {},
   "outputs": [
    {
     "data": {
      "text/html": [
       "<div>\n",
       "<style scoped>\n",
       "    .dataframe tbody tr th:only-of-type {\n",
       "        vertical-align: middle;\n",
       "    }\n",
       "\n",
       "    .dataframe tbody tr th {\n",
       "        vertical-align: top;\n",
       "    }\n",
       "\n",
       "    .dataframe thead th {\n",
       "        text-align: right;\n",
       "    }\n",
       "</style>\n",
       "<table border=\"1\" class=\"dataframe\">\n",
       "  <thead>\n",
       "    <tr style=\"text-align: right;\">\n",
       "      <th></th>\n",
       "      <th>NameModel</th>\n",
       "      <th>f1</th>\n",
       "      <th>accuracy</th>\n",
       "      <th>precision</th>\n",
       "      <th>recall</th>\n",
       "      <th>fitting_duration</th>\n",
       "      <th>jaccard</th>\n",
       "    </tr>\n",
       "  </thead>\n",
       "  <tbody>\n",
       "    <tr>\n",
       "      <th>0</th>\n",
       "      <td>LinearSVC1</td>\n",
       "      <td>[0.6510249754411733]</td>\n",
       "      <td>[0.494127732533219]</td>\n",
       "      <td>[0.7239464978569428]</td>\n",
       "      <td>[0.6117569786535304]</td>\n",
       "      <td>2.471165</td>\n",
       "      <td>[0.5022289949873799]</td>\n",
       "    </tr>\n",
       "    <tr>\n",
       "      <th>1</th>\n",
       "      <td>MultinomialNB1</td>\n",
       "      <td>[0.013696334111196468]</td>\n",
       "      <td>[0.008572653236176597]</td>\n",
       "      <td>[0.36400217929218404]</td>\n",
       "      <td>[0.007093596059113301]</td>\n",
       "      <td>0.650097</td>\n",
       "      <td>[0.007090934068848554]</td>\n",
       "    </tr>\n",
       "  </tbody>\n",
       "</table>\n",
       "</div>"
      ],
      "text/plain": [
       "        NameModel                      f1                accuracy  \\\n",
       "0      LinearSVC1    [0.6510249754411733]     [0.494127732533219]   \n",
       "1  MultinomialNB1  [0.013696334111196468]  [0.008572653236176597]   \n",
       "\n",
       "               precision                  recall  fitting_duration  \\\n",
       "0   [0.7239464978569428]    [0.6117569786535304]          2.471165   \n",
       "1  [0.36400217929218404]  [0.007093596059113301]          0.650097   \n",
       "\n",
       "                  jaccard  \n",
       "0    [0.5022289949873799]  \n",
       "1  [0.007090934068848554]  "
      ]
     },
     "execution_count": 27,
     "metadata": {},
     "output_type": "execute_result"
    }
   ],
   "source": [
    "DfScore.loc[len(DfScore.index)] = {'NameModel':'MultinomialNB1', 'f1':f1, 'accuracy':accuracy, 'precision':precision, 'recall':recall, 'fitting_duration':end-start, 'jaccard':jaccard}\n",
    "DfScore"
   ]
  },
  {
   "cell_type": "markdown",
   "id": "22933c58",
   "metadata": {},
   "source": [
    "## Logistic regression"
   ]
  },
  {
   "cell_type": "code",
   "execution_count": 28,
   "id": "f0d61ea9",
   "metadata": {},
   "outputs": [],
   "source": [
    "from sklearn.linear_model import LogisticRegression\n",
    "from sklearn.multioutput import ClassifierChain\n",
    "base_clf = LogisticRegression(max_iter=500,tol=1e-5)\n",
    "chain = ClassifierChain(base_clf, order='random', random_state=0)\n",
    "start = time.time()\n",
    "chain.fit(X_train,y_train)\n",
    "end = time.time()"
   ]
  },
  {
   "cell_type": "code",
   "execution_count": 29,
   "id": "5e60ace2",
   "metadata": {},
   "outputs": [],
   "source": [
    "prediction = chain.predict(X_test)"
   ]
  },
  {
   "cell_type": "code",
   "execution_count": 30,
   "id": "639072f7",
   "metadata": {},
   "outputs": [],
   "source": [
    "f1 = []\n",
    "accuracy = []\n",
    "precision = []\n",
    "recall = []\n",
    "jaccard = []\n",
    "\n",
    "f1.append(f1_score(y_test,prediction,average='weighted'))\n",
    "accuracy.append(accuracy_score(y_test,prediction))\n",
    "precision.append(precision_score(y_test,prediction,average='weighted'))\n",
    "recall.append(recall_score(y_test,prediction,average='weighted'))\n",
    "jaccard.append(jaccard_score(y_test, prediction, average='weighted'))  # Compute Jaccard score\n",
    "\n",
    "Logistic_regression_scores_ch['f1']=f1\n",
    "Logistic_regression_scores_ch['accuracy']=accuracy\n",
    "Logistic_regression_scores_ch['precision']=precision\n",
    "Logistic_regression_scores_ch['recall'] = recall\n",
    "Logistic_regression_scores_ch['fitting_duration'] = end-start\n",
    "Logistic_regression_scores_ch['jaccard'] = jaccard "
   ]
  },
  {
   "cell_type": "code",
   "execution_count": 31,
   "id": "19ff01bc",
   "metadata": {},
   "outputs": [
    {
     "data": {
      "text/html": [
       "<div>\n",
       "<style scoped>\n",
       "    .dataframe tbody tr th:only-of-type {\n",
       "        vertical-align: middle;\n",
       "    }\n",
       "\n",
       "    .dataframe tbody tr th {\n",
       "        vertical-align: top;\n",
       "    }\n",
       "\n",
       "    .dataframe thead th {\n",
       "        text-align: right;\n",
       "    }\n",
       "</style>\n",
       "<table border=\"1\" class=\"dataframe\">\n",
       "  <thead>\n",
       "    <tr style=\"text-align: right;\">\n",
       "      <th></th>\n",
       "      <th>f1</th>\n",
       "      <th>accuracy</th>\n",
       "      <th>precision</th>\n",
       "      <th>recall</th>\n",
       "      <th>fitting_duration</th>\n",
       "      <th>jaccard</th>\n",
       "    </tr>\n",
       "  </thead>\n",
       "  <tbody>\n",
       "    <tr>\n",
       "      <th>0</th>\n",
       "      <td>0.566711</td>\n",
       "      <td>0.40763</td>\n",
       "      <td>0.783984</td>\n",
       "      <td>0.478161</td>\n",
       "      <td>29.733469</td>\n",
       "      <td>0.417635</td>\n",
       "    </tr>\n",
       "  </tbody>\n",
       "</table>\n",
       "</div>"
      ],
      "text/plain": [
       "         f1  accuracy  precision    recall  fitting_duration   jaccard\n",
       "0  0.566711   0.40763   0.783984  0.478161         29.733469  0.417635"
      ]
     },
     "execution_count": 31,
     "metadata": {},
     "output_type": "execute_result"
    }
   ],
   "source": [
    "Logistic_regression_scores_ch"
   ]
  },
  {
   "cell_type": "code",
   "execution_count": 32,
   "id": "94acb28f",
   "metadata": {},
   "outputs": [
    {
     "data": {
      "text/html": [
       "<div>\n",
       "<style scoped>\n",
       "    .dataframe tbody tr th:only-of-type {\n",
       "        vertical-align: middle;\n",
       "    }\n",
       "\n",
       "    .dataframe tbody tr th {\n",
       "        vertical-align: top;\n",
       "    }\n",
       "\n",
       "    .dataframe thead th {\n",
       "        text-align: right;\n",
       "    }\n",
       "</style>\n",
       "<table border=\"1\" class=\"dataframe\">\n",
       "  <thead>\n",
       "    <tr style=\"text-align: right;\">\n",
       "      <th></th>\n",
       "      <th>NameModel</th>\n",
       "      <th>f1</th>\n",
       "      <th>accuracy</th>\n",
       "      <th>precision</th>\n",
       "      <th>recall</th>\n",
       "      <th>fitting_duration</th>\n",
       "      <th>jaccard</th>\n",
       "    </tr>\n",
       "  </thead>\n",
       "  <tbody>\n",
       "    <tr>\n",
       "      <th>0</th>\n",
       "      <td>LinearSVC1</td>\n",
       "      <td>[0.6510249754411733]</td>\n",
       "      <td>[0.494127732533219]</td>\n",
       "      <td>[0.7239464978569428]</td>\n",
       "      <td>[0.6117569786535304]</td>\n",
       "      <td>2.471165</td>\n",
       "      <td>[0.5022289949873799]</td>\n",
       "    </tr>\n",
       "    <tr>\n",
       "      <th>1</th>\n",
       "      <td>MultinomialNB1</td>\n",
       "      <td>[0.013696334111196468]</td>\n",
       "      <td>[0.008572653236176597]</td>\n",
       "      <td>[0.36400217929218404]</td>\n",
       "      <td>[0.007093596059113301]</td>\n",
       "      <td>0.650097</td>\n",
       "      <td>[0.007090934068848554]</td>\n",
       "    </tr>\n",
       "    <tr>\n",
       "      <th>2</th>\n",
       "      <td>Logistic regression1</td>\n",
       "      <td>[0.5667107622025461]</td>\n",
       "      <td>[0.4076296613801972]</td>\n",
       "      <td>[0.7839842731141168]</td>\n",
       "      <td>[0.4781609195402299]</td>\n",
       "      <td>29.733469</td>\n",
       "      <td>[0.4176351894464903]</td>\n",
       "    </tr>\n",
       "  </tbody>\n",
       "</table>\n",
       "</div>"
      ],
      "text/plain": [
       "              NameModel                      f1                accuracy  \\\n",
       "0            LinearSVC1    [0.6510249754411733]     [0.494127732533219]   \n",
       "1        MultinomialNB1  [0.013696334111196468]  [0.008572653236176597]   \n",
       "2  Logistic regression1    [0.5667107622025461]    [0.4076296613801972]   \n",
       "\n",
       "               precision                  recall  fitting_duration  \\\n",
       "0   [0.7239464978569428]    [0.6117569786535304]          2.471165   \n",
       "1  [0.36400217929218404]  [0.007093596059113301]          0.650097   \n",
       "2   [0.7839842731141168]    [0.4781609195402299]         29.733469   \n",
       "\n",
       "                  jaccard  \n",
       "0    [0.5022289949873799]  \n",
       "1  [0.007090934068848554]  \n",
       "2    [0.4176351894464903]  "
      ]
     },
     "execution_count": 32,
     "metadata": {},
     "output_type": "execute_result"
    }
   ],
   "source": [
    "DfScore.loc[len(DfScore.index)] = {'NameModel':'Logistic regression1', 'f1':f1, 'accuracy':accuracy, 'precision':precision, 'recall':recall, 'fitting_duration':end-start, 'jaccard':jaccard}\n",
    "DfScore"
   ]
  },
  {
   "cell_type": "markdown",
   "id": "e3a8e4b2",
   "metadata": {},
   "source": [
    "# MultiOutputClassifier"
   ]
  },
  {
   "cell_type": "markdown",
   "id": "6caa5b13",
   "metadata": {},
   "source": [
    "## LinearSVC"
   ]
  },
  {
   "cell_type": "code",
   "execution_count": 33,
   "id": "2072c14a",
   "metadata": {},
   "outputs": [],
   "source": [
    "from sklearn.multioutput import MultiOutputClassifier\n",
    "from sklearn.svm import LinearSVC\n",
    "clf = MultiOutputClassifier(LinearSVC(random_state=0, tol=1e-5),n_jobs=-1)\n",
    "start = time.time()\n",
    "clf.fit(X_train,y_train)\n",
    "end = time.time()"
   ]
  },
  {
   "cell_type": "code",
   "execution_count": 34,
   "id": "a6b6d732",
   "metadata": {},
   "outputs": [],
   "source": [
    "prediction = clf.predict(X_test)"
   ]
  },
  {
   "cell_type": "code",
   "execution_count": 35,
   "id": "6490a9cf",
   "metadata": {},
   "outputs": [],
   "source": [
    "f1 = []\n",
    "accuracy = []\n",
    "precision = []\n",
    "recall = []\n",
    "jaccard = []\n",
    "\n",
    "f1.append(f1_score(y_test,prediction,average='weighted'))\n",
    "accuracy.append(accuracy_score(y_test,prediction))\n",
    "precision.append(precision_score(y_test,prediction,average='weighted'))\n",
    "recall.append(recall_score(y_test,prediction,average='weighted'))\n",
    "jaccard.append(jaccard_score(y_test, prediction, average='weighted'))  # Compute Jaccard score\n",
    "\n",
    "LinearSVC_scores_moc['f1']=f1\n",
    "LinearSVC_scores_moc['accuracy']=accuracy\n",
    "LinearSVC_scores_moc['precision']=precision\n",
    "LinearSVC_scores_moc['recall'] = recall\n",
    "LinearSVC_scores_moc['fitting_duration'] = end-start\n",
    "LinearSVC_scores_moc['jaccard'] = jaccard"
   ]
  },
  {
   "cell_type": "code",
   "execution_count": 36,
   "id": "4bbad1dc",
   "metadata": {},
   "outputs": [
    {
     "data": {
      "text/html": [
       "<div>\n",
       "<style scoped>\n",
       "    .dataframe tbody tr th:only-of-type {\n",
       "        vertical-align: middle;\n",
       "    }\n",
       "\n",
       "    .dataframe tbody tr th {\n",
       "        vertical-align: top;\n",
       "    }\n",
       "\n",
       "    .dataframe thead th {\n",
       "        text-align: right;\n",
       "    }\n",
       "</style>\n",
       "<table border=\"1\" class=\"dataframe\">\n",
       "  <thead>\n",
       "    <tr style=\"text-align: right;\">\n",
       "      <th></th>\n",
       "      <th>f1</th>\n",
       "      <th>accuracy</th>\n",
       "      <th>precision</th>\n",
       "      <th>recall</th>\n",
       "      <th>fitting_duration</th>\n",
       "      <th>jaccard</th>\n",
       "    </tr>\n",
       "  </thead>\n",
       "  <tbody>\n",
       "    <tr>\n",
       "      <th>0</th>\n",
       "      <td>0.654031</td>\n",
       "      <td>0.457608</td>\n",
       "      <td>0.79106</td>\n",
       "      <td>0.566634</td>\n",
       "      <td>4.56851</td>\n",
       "      <td>0.50693</td>\n",
       "    </tr>\n",
       "  </tbody>\n",
       "</table>\n",
       "</div>"
      ],
      "text/plain": [
       "         f1  accuracy  precision    recall  fitting_duration  jaccard\n",
       "0  0.654031  0.457608    0.79106  0.566634           4.56851  0.50693"
      ]
     },
     "execution_count": 36,
     "metadata": {},
     "output_type": "execute_result"
    }
   ],
   "source": [
    "LinearSVC_scores_moc"
   ]
  },
  {
   "cell_type": "code",
   "execution_count": 37,
   "id": "8fad0610",
   "metadata": {},
   "outputs": [
    {
     "data": {
      "text/html": [
       "<div>\n",
       "<style scoped>\n",
       "    .dataframe tbody tr th:only-of-type {\n",
       "        vertical-align: middle;\n",
       "    }\n",
       "\n",
       "    .dataframe tbody tr th {\n",
       "        vertical-align: top;\n",
       "    }\n",
       "\n",
       "    .dataframe thead th {\n",
       "        text-align: right;\n",
       "    }\n",
       "</style>\n",
       "<table border=\"1\" class=\"dataframe\">\n",
       "  <thead>\n",
       "    <tr style=\"text-align: right;\">\n",
       "      <th></th>\n",
       "      <th>NameModel</th>\n",
       "      <th>f1</th>\n",
       "      <th>accuracy</th>\n",
       "      <th>precision</th>\n",
       "      <th>recall</th>\n",
       "      <th>fitting_duration</th>\n",
       "      <th>jaccard</th>\n",
       "    </tr>\n",
       "  </thead>\n",
       "  <tbody>\n",
       "    <tr>\n",
       "      <th>0</th>\n",
       "      <td>LinearSVC1</td>\n",
       "      <td>[0.6510249754411733]</td>\n",
       "      <td>[0.494127732533219]</td>\n",
       "      <td>[0.7239464978569428]</td>\n",
       "      <td>[0.6117569786535304]</td>\n",
       "      <td>2.471165</td>\n",
       "      <td>[0.5022289949873799]</td>\n",
       "    </tr>\n",
       "    <tr>\n",
       "      <th>1</th>\n",
       "      <td>MultinomialNB1</td>\n",
       "      <td>[0.013696334111196468]</td>\n",
       "      <td>[0.008572653236176597]</td>\n",
       "      <td>[0.36400217929218404]</td>\n",
       "      <td>[0.007093596059113301]</td>\n",
       "      <td>0.650097</td>\n",
       "      <td>[0.007090934068848554]</td>\n",
       "    </tr>\n",
       "    <tr>\n",
       "      <th>2</th>\n",
       "      <td>Logistic regression1</td>\n",
       "      <td>[0.5667107622025461]</td>\n",
       "      <td>[0.4076296613801972]</td>\n",
       "      <td>[0.7839842731141168]</td>\n",
       "      <td>[0.4781609195402299]</td>\n",
       "      <td>29.733469</td>\n",
       "      <td>[0.4176351894464903]</td>\n",
       "    </tr>\n",
       "    <tr>\n",
       "      <th>3</th>\n",
       "      <td>LinearSVC2</td>\n",
       "      <td>[0.6540309437198691]</td>\n",
       "      <td>[0.45760822974710674]</td>\n",
       "      <td>[0.7910597202561167]</td>\n",
       "      <td>[0.5666338259441708]</td>\n",
       "      <td>4.568510</td>\n",
       "      <td>[0.5069299169725915]</td>\n",
       "    </tr>\n",
       "  </tbody>\n",
       "</table>\n",
       "</div>"
      ],
      "text/plain": [
       "              NameModel                      f1                accuracy  \\\n",
       "0            LinearSVC1    [0.6510249754411733]     [0.494127732533219]   \n",
       "1        MultinomialNB1  [0.013696334111196468]  [0.008572653236176597]   \n",
       "2  Logistic regression1    [0.5667107622025461]    [0.4076296613801972]   \n",
       "3            LinearSVC2    [0.6540309437198691]   [0.45760822974710674]   \n",
       "\n",
       "               precision                  recall  fitting_duration  \\\n",
       "0   [0.7239464978569428]    [0.6117569786535304]          2.471165   \n",
       "1  [0.36400217929218404]  [0.007093596059113301]          0.650097   \n",
       "2   [0.7839842731141168]    [0.4781609195402299]         29.733469   \n",
       "3   [0.7910597202561167]    [0.5666338259441708]          4.568510   \n",
       "\n",
       "                  jaccard  \n",
       "0    [0.5022289949873799]  \n",
       "1  [0.007090934068848554]  \n",
       "2    [0.4176351894464903]  \n",
       "3    [0.5069299169725915]  "
      ]
     },
     "execution_count": 37,
     "metadata": {},
     "output_type": "execute_result"
    }
   ],
   "source": [
    "DfScore.loc[len(DfScore.index)] = {'NameModel':'LinearSVC2', 'f1':f1, 'accuracy':accuracy, 'precision':precision, 'recall':recall, 'fitting_duration':end-start, 'jaccard':jaccard}\n",
    "DfScore"
   ]
  },
  {
   "cell_type": "markdown",
   "id": "de361959",
   "metadata": {},
   "source": [
    "## MultinomialNB"
   ]
  },
  {
   "cell_type": "code",
   "execution_count": 38,
   "id": "de1d05f4",
   "metadata": {},
   "outputs": [],
   "source": [
    "from sklearn.naive_bayes import MultinomialNB\n",
    "from sklearn.multioutput import MultiOutputClassifier\n",
    "clf = MultiOutputClassifier(MultinomialNB(),n_jobs=-1)\n",
    "start = time.time()\n",
    "clf.fit(X_train,y_train)\n",
    "end = time.time()"
   ]
  },
  {
   "cell_type": "code",
   "execution_count": 39,
   "id": "fdbaa0a3",
   "metadata": {},
   "outputs": [],
   "source": [
    "prediction = clf.predict(X_test)"
   ]
  },
  {
   "cell_type": "code",
   "execution_count": 40,
   "id": "aa375a7a",
   "metadata": {},
   "outputs": [
    {
     "name": "stderr",
     "output_type": "stream",
     "text": [
      "C:\\Users\\aikim\\anaconda3\\lib\\site-packages\\sklearn\\metrics\\_classification.py:1344: UndefinedMetricWarning: Precision is ill-defined and being set to 0.0 in labels with no predicted samples. Use `zero_division` parameter to control this behavior.\n",
      "  _warn_prf(average, modifier, msg_start, len(result))\n"
     ]
    }
   ],
   "source": [
    "f1 = []\n",
    "accuracy = []\n",
    "precision = []\n",
    "recall = []\n",
    "jaccard = []\n",
    "\n",
    "f1.append(f1_score(y_test,prediction,average='weighted'))\n",
    "accuracy.append(accuracy_score(y_test,prediction))\n",
    "precision.append(precision_score(y_test,prediction,average='weighted'))\n",
    "recall.append(recall_score(y_test,prediction,average='weighted'))\n",
    "jaccard.append(jaccard_score(y_test, prediction, average='weighted'))  # Compute Jaccard score\n",
    "\n",
    "MultinomialNB_scores_moc['f1']=f1\n",
    "MultinomialNB_scores_moc['accuracy']=accuracy\n",
    "MultinomialNB_scores_moc['precision']=precision\n",
    "MultinomialNB_scores_moc['recall'] = recall\n",
    "MultinomialNB_scores_moc['fitting_duration'] = end-start\n",
    "MultinomialNB_scores_moc['jaccard'] = jaccard"
   ]
  },
  {
   "cell_type": "code",
   "execution_count": 41,
   "id": "7c482924",
   "metadata": {
    "scrolled": true
   },
   "outputs": [
    {
     "data": {
      "text/html": [
       "<div>\n",
       "<style scoped>\n",
       "    .dataframe tbody tr th:only-of-type {\n",
       "        vertical-align: middle;\n",
       "    }\n",
       "\n",
       "    .dataframe tbody tr th {\n",
       "        vertical-align: top;\n",
       "    }\n",
       "\n",
       "    .dataframe thead th {\n",
       "        text-align: right;\n",
       "    }\n",
       "</style>\n",
       "<table border=\"1\" class=\"dataframe\">\n",
       "  <thead>\n",
       "    <tr style=\"text-align: right;\">\n",
       "      <th></th>\n",
       "      <th>f1</th>\n",
       "      <th>accuracy</th>\n",
       "      <th>precision</th>\n",
       "      <th>recall</th>\n",
       "      <th>fitting_duration</th>\n",
       "      <th>jaccard</th>\n",
       "    </tr>\n",
       "  </thead>\n",
       "  <tbody>\n",
       "    <tr>\n",
       "      <th>0</th>\n",
       "      <td>0.011855</td>\n",
       "      <td>0.007544</td>\n",
       "      <td>0.28796</td>\n",
       "      <td>0.006108</td>\n",
       "      <td>0.323445</td>\n",
       "      <td>0.006106</td>\n",
       "    </tr>\n",
       "  </tbody>\n",
       "</table>\n",
       "</div>"
      ],
      "text/plain": [
       "         f1  accuracy  precision    recall  fitting_duration   jaccard\n",
       "0  0.011855  0.007544    0.28796  0.006108          0.323445  0.006106"
      ]
     },
     "execution_count": 41,
     "metadata": {},
     "output_type": "execute_result"
    }
   ],
   "source": [
    "MultinomialNB_scores_moc"
   ]
  },
  {
   "cell_type": "code",
   "execution_count": 42,
   "id": "5312ae80",
   "metadata": {},
   "outputs": [
    {
     "data": {
      "text/html": [
       "<div>\n",
       "<style scoped>\n",
       "    .dataframe tbody tr th:only-of-type {\n",
       "        vertical-align: middle;\n",
       "    }\n",
       "\n",
       "    .dataframe tbody tr th {\n",
       "        vertical-align: top;\n",
       "    }\n",
       "\n",
       "    .dataframe thead th {\n",
       "        text-align: right;\n",
       "    }\n",
       "</style>\n",
       "<table border=\"1\" class=\"dataframe\">\n",
       "  <thead>\n",
       "    <tr style=\"text-align: right;\">\n",
       "      <th></th>\n",
       "      <th>NameModel</th>\n",
       "      <th>f1</th>\n",
       "      <th>accuracy</th>\n",
       "      <th>precision</th>\n",
       "      <th>recall</th>\n",
       "      <th>fitting_duration</th>\n",
       "      <th>jaccard</th>\n",
       "    </tr>\n",
       "  </thead>\n",
       "  <tbody>\n",
       "    <tr>\n",
       "      <th>0</th>\n",
       "      <td>LinearSVC1</td>\n",
       "      <td>[0.6510249754411733]</td>\n",
       "      <td>[0.494127732533219]</td>\n",
       "      <td>[0.7239464978569428]</td>\n",
       "      <td>[0.6117569786535304]</td>\n",
       "      <td>2.471165</td>\n",
       "      <td>[0.5022289949873799]</td>\n",
       "    </tr>\n",
       "    <tr>\n",
       "      <th>1</th>\n",
       "      <td>MultinomialNB1</td>\n",
       "      <td>[0.013696334111196468]</td>\n",
       "      <td>[0.008572653236176597]</td>\n",
       "      <td>[0.36400217929218404]</td>\n",
       "      <td>[0.007093596059113301]</td>\n",
       "      <td>0.650097</td>\n",
       "      <td>[0.007090934068848554]</td>\n",
       "    </tr>\n",
       "    <tr>\n",
       "      <th>2</th>\n",
       "      <td>Logistic regression1</td>\n",
       "      <td>[0.5667107622025461]</td>\n",
       "      <td>[0.4076296613801972]</td>\n",
       "      <td>[0.7839842731141168]</td>\n",
       "      <td>[0.4781609195402299]</td>\n",
       "      <td>29.733469</td>\n",
       "      <td>[0.4176351894464903]</td>\n",
       "    </tr>\n",
       "    <tr>\n",
       "      <th>3</th>\n",
       "      <td>LinearSVC2</td>\n",
       "      <td>[0.6540309437198691]</td>\n",
       "      <td>[0.45760822974710674]</td>\n",
       "      <td>[0.7910597202561167]</td>\n",
       "      <td>[0.5666338259441708]</td>\n",
       "      <td>4.568510</td>\n",
       "      <td>[0.5069299169725915]</td>\n",
       "    </tr>\n",
       "    <tr>\n",
       "      <th>4</th>\n",
       "      <td>MultinomialNB2</td>\n",
       "      <td>[0.011855141944311738]</td>\n",
       "      <td>[0.007543934847835405]</td>\n",
       "      <td>[0.28796015325670493]</td>\n",
       "      <td>[0.006108374384236453]</td>\n",
       "      <td>0.323445</td>\n",
       "      <td>[0.006105895149498925]</td>\n",
       "    </tr>\n",
       "  </tbody>\n",
       "</table>\n",
       "</div>"
      ],
      "text/plain": [
       "              NameModel                      f1                accuracy  \\\n",
       "0            LinearSVC1    [0.6510249754411733]     [0.494127732533219]   \n",
       "1        MultinomialNB1  [0.013696334111196468]  [0.008572653236176597]   \n",
       "2  Logistic regression1    [0.5667107622025461]    [0.4076296613801972]   \n",
       "3            LinearSVC2    [0.6540309437198691]   [0.45760822974710674]   \n",
       "4        MultinomialNB2  [0.011855141944311738]  [0.007543934847835405]   \n",
       "\n",
       "               precision                  recall  fitting_duration  \\\n",
       "0   [0.7239464978569428]    [0.6117569786535304]          2.471165   \n",
       "1  [0.36400217929218404]  [0.007093596059113301]          0.650097   \n",
       "2   [0.7839842731141168]    [0.4781609195402299]         29.733469   \n",
       "3   [0.7910597202561167]    [0.5666338259441708]          4.568510   \n",
       "4  [0.28796015325670493]  [0.006108374384236453]          0.323445   \n",
       "\n",
       "                  jaccard  \n",
       "0    [0.5022289949873799]  \n",
       "1  [0.007090934068848554]  \n",
       "2    [0.4176351894464903]  \n",
       "3    [0.5069299169725915]  \n",
       "4  [0.006105895149498925]  "
      ]
     },
     "execution_count": 42,
     "metadata": {},
     "output_type": "execute_result"
    }
   ],
   "source": [
    "DfScore.loc[len(DfScore.index)] = {'NameModel':'MultinomialNB2', 'f1':f1, 'accuracy':accuracy, 'precision':precision, 'recall':recall, 'fitting_duration':end-start, 'jaccard':jaccard}\n",
    "DfScore"
   ]
  },
  {
   "cell_type": "markdown",
   "id": "43ad8bc0",
   "metadata": {},
   "source": [
    "## Logistic regression"
   ]
  },
  {
   "cell_type": "code",
   "execution_count": 43,
   "id": "0c9d7333",
   "metadata": {},
   "outputs": [],
   "source": [
    "from sklearn.linear_model import LogisticRegression\n",
    "from sklearn.multioutput import MultiOutputClassifier\n",
    "clf = MultiOutputClassifier(LogisticRegression(max_iter=500,tol=1e-5),n_jobs=-1)\n",
    "start = time.time()\n",
    "clf.fit(X_train,y_train)\n",
    "end = time.time()"
   ]
  },
  {
   "cell_type": "code",
   "execution_count": 44,
   "id": "30bf2708",
   "metadata": {},
   "outputs": [],
   "source": [
    "prediction = clf.predict(X_test)"
   ]
  },
  {
   "cell_type": "code",
   "execution_count": 45,
   "id": "ea055296",
   "metadata": {},
   "outputs": [],
   "source": [
    "f1 = []\n",
    "accuracy = []\n",
    "precision = []\n",
    "recall = []\n",
    "jaccard = []\n",
    "\n",
    "f1.append(f1_score(y_test,prediction,average='weighted'))\n",
    "accuracy.append(accuracy_score(y_test,prediction))\n",
    "precision.append(precision_score(y_test,prediction,average='weighted'))\n",
    "recall.append(recall_score(y_test,prediction,average='weighted'))\n",
    "jaccard.append(jaccard_score(y_test, prediction, average='weighted'))  # Compute Jaccard score\n",
    "\n",
    "Logistic_regression_scores_moc['f1']=f1\n",
    "Logistic_regression_scores_moc['accuracy']=accuracy\n",
    "Logistic_regression_scores_moc['precision']=precision\n",
    "Logistic_regression_scores_moc['recall'] = recall\n",
    "Logistic_regression_scores_moc['fitting_duration'] = end-start\n",
    "Logistic_regression_scores_moc['jaccard'] = jaccard"
   ]
  },
  {
   "cell_type": "code",
   "execution_count": 46,
   "id": "0b9fc9c6",
   "metadata": {},
   "outputs": [
    {
     "data": {
      "text/html": [
       "<div>\n",
       "<style scoped>\n",
       "    .dataframe tbody tr th:only-of-type {\n",
       "        vertical-align: middle;\n",
       "    }\n",
       "\n",
       "    .dataframe tbody tr th {\n",
       "        vertical-align: top;\n",
       "    }\n",
       "\n",
       "    .dataframe thead th {\n",
       "        text-align: right;\n",
       "    }\n",
       "</style>\n",
       "<table border=\"1\" class=\"dataframe\">\n",
       "  <thead>\n",
       "    <tr style=\"text-align: right;\">\n",
       "      <th></th>\n",
       "      <th>f1</th>\n",
       "      <th>accuracy</th>\n",
       "      <th>precision</th>\n",
       "      <th>recall</th>\n",
       "      <th>fitting_duration</th>\n",
       "      <th>jaccard</th>\n",
       "    </tr>\n",
       "  </thead>\n",
       "  <tbody>\n",
       "    <tr>\n",
       "      <th>0</th>\n",
       "      <td>0.524274</td>\n",
       "      <td>0.339649</td>\n",
       "      <td>0.833773</td>\n",
       "      <td>0.399409</td>\n",
       "      <td>7.205719</td>\n",
       "      <td>0.375864</td>\n",
       "    </tr>\n",
       "  </tbody>\n",
       "</table>\n",
       "</div>"
      ],
      "text/plain": [
       "         f1  accuracy  precision    recall  fitting_duration   jaccard\n",
       "0  0.524274  0.339649   0.833773  0.399409          7.205719  0.375864"
      ]
     },
     "execution_count": 46,
     "metadata": {},
     "output_type": "execute_result"
    }
   ],
   "source": [
    "Logistic_regression_scores_moc"
   ]
  },
  {
   "cell_type": "code",
   "execution_count": 47,
   "id": "b3ccef81",
   "metadata": {},
   "outputs": [
    {
     "data": {
      "text/html": [
       "<div>\n",
       "<style scoped>\n",
       "    .dataframe tbody tr th:only-of-type {\n",
       "        vertical-align: middle;\n",
       "    }\n",
       "\n",
       "    .dataframe tbody tr th {\n",
       "        vertical-align: top;\n",
       "    }\n",
       "\n",
       "    .dataframe thead th {\n",
       "        text-align: right;\n",
       "    }\n",
       "</style>\n",
       "<table border=\"1\" class=\"dataframe\">\n",
       "  <thead>\n",
       "    <tr style=\"text-align: right;\">\n",
       "      <th></th>\n",
       "      <th>NameModel</th>\n",
       "      <th>f1</th>\n",
       "      <th>accuracy</th>\n",
       "      <th>precision</th>\n",
       "      <th>recall</th>\n",
       "      <th>fitting_duration</th>\n",
       "      <th>jaccard</th>\n",
       "    </tr>\n",
       "  </thead>\n",
       "  <tbody>\n",
       "    <tr>\n",
       "      <th>0</th>\n",
       "      <td>LinearSVC1</td>\n",
       "      <td>[0.6510249754411733]</td>\n",
       "      <td>[0.494127732533219]</td>\n",
       "      <td>[0.7239464978569428]</td>\n",
       "      <td>[0.6117569786535304]</td>\n",
       "      <td>2.471165</td>\n",
       "      <td>[0.5022289949873799]</td>\n",
       "    </tr>\n",
       "    <tr>\n",
       "      <th>1</th>\n",
       "      <td>MultinomialNB1</td>\n",
       "      <td>[0.013696334111196468]</td>\n",
       "      <td>[0.008572653236176597]</td>\n",
       "      <td>[0.36400217929218404]</td>\n",
       "      <td>[0.007093596059113301]</td>\n",
       "      <td>0.650097</td>\n",
       "      <td>[0.007090934068848554]</td>\n",
       "    </tr>\n",
       "    <tr>\n",
       "      <th>2</th>\n",
       "      <td>Logistic regression1</td>\n",
       "      <td>[0.5667107622025461]</td>\n",
       "      <td>[0.4076296613801972]</td>\n",
       "      <td>[0.7839842731141168]</td>\n",
       "      <td>[0.4781609195402299]</td>\n",
       "      <td>29.733469</td>\n",
       "      <td>[0.4176351894464903]</td>\n",
       "    </tr>\n",
       "    <tr>\n",
       "      <th>3</th>\n",
       "      <td>LinearSVC2</td>\n",
       "      <td>[0.6540309437198691]</td>\n",
       "      <td>[0.45760822974710674]</td>\n",
       "      <td>[0.7910597202561167]</td>\n",
       "      <td>[0.5666338259441708]</td>\n",
       "      <td>4.568510</td>\n",
       "      <td>[0.5069299169725915]</td>\n",
       "    </tr>\n",
       "    <tr>\n",
       "      <th>4</th>\n",
       "      <td>MultinomialNB2</td>\n",
       "      <td>[0.011855141944311738]</td>\n",
       "      <td>[0.007543934847835405]</td>\n",
       "      <td>[0.28796015325670493]</td>\n",
       "      <td>[0.006108374384236453]</td>\n",
       "      <td>0.323445</td>\n",
       "      <td>[0.006105895149498925]</td>\n",
       "    </tr>\n",
       "    <tr>\n",
       "      <th>5</th>\n",
       "      <td>Logistic regression2</td>\n",
       "      <td>[0.5242737247001812]</td>\n",
       "      <td>[0.33964852121731676]</td>\n",
       "      <td>[0.83377276155512]</td>\n",
       "      <td>[0.3994088669950739]</td>\n",
       "      <td>7.205719</td>\n",
       "      <td>[0.37586439901351976]</td>\n",
       "    </tr>\n",
       "  </tbody>\n",
       "</table>\n",
       "</div>"
      ],
      "text/plain": [
       "              NameModel                      f1                accuracy  \\\n",
       "0            LinearSVC1    [0.6510249754411733]     [0.494127732533219]   \n",
       "1        MultinomialNB1  [0.013696334111196468]  [0.008572653236176597]   \n",
       "2  Logistic regression1    [0.5667107622025461]    [0.4076296613801972]   \n",
       "3            LinearSVC2    [0.6540309437198691]   [0.45760822974710674]   \n",
       "4        MultinomialNB2  [0.011855141944311738]  [0.007543934847835405]   \n",
       "5  Logistic regression2    [0.5242737247001812]   [0.33964852121731676]   \n",
       "\n",
       "               precision                  recall  fitting_duration  \\\n",
       "0   [0.7239464978569428]    [0.6117569786535304]          2.471165   \n",
       "1  [0.36400217929218404]  [0.007093596059113301]          0.650097   \n",
       "2   [0.7839842731141168]    [0.4781609195402299]         29.733469   \n",
       "3   [0.7910597202561167]    [0.5666338259441708]          4.568510   \n",
       "4  [0.28796015325670493]  [0.006108374384236453]          0.323445   \n",
       "5     [0.83377276155512]    [0.3994088669950739]          7.205719   \n",
       "\n",
       "                  jaccard  \n",
       "0    [0.5022289949873799]  \n",
       "1  [0.007090934068848554]  \n",
       "2    [0.4176351894464903]  \n",
       "3    [0.5069299169725915]  \n",
       "4  [0.006105895149498925]  \n",
       "5   [0.37586439901351976]  "
      ]
     },
     "execution_count": 47,
     "metadata": {},
     "output_type": "execute_result"
    }
   ],
   "source": [
    "DfScore.loc[len(DfScore.index)] = {'NameModel':'Logistic regression2', 'f1':f1, 'accuracy':accuracy, 'precision':precision, 'recall':recall, 'fitting_duration':end-start, 'jaccard':jaccard}\n",
    "DfScore"
   ]
  },
  {
   "cell_type": "code",
   "execution_count": null,
   "id": "1ddd439e",
   "metadata": {},
   "outputs": [],
   "source": []
  },
  {
   "cell_type": "code",
   "execution_count": null,
   "id": "43167bfa",
   "metadata": {},
   "outputs": [],
   "source": []
  },
  {
   "cell_type": "markdown",
   "id": "e42accb3",
   "metadata": {},
   "source": [
    "df scores jaccard_score"
   ]
  },
  {
   "cell_type": "code",
   "execution_count": null,
   "id": "71ee9503",
   "metadata": {},
   "outputs": [],
   "source": []
  },
  {
   "cell_type": "code",
   "execution_count": null,
   "id": "80c8c954",
   "metadata": {},
   "outputs": [],
   "source": []
  }
 ],
 "metadata": {
  "kernelspec": {
   "display_name": "Python 3 (ipykernel)",
   "language": "python",
   "name": "python3"
  },
  "language_info": {
   "codemirror_mode": {
    "name": "ipython",
    "version": 3
   },
   "file_extension": ".py",
   "mimetype": "text/x-python",
   "name": "python",
   "nbconvert_exporter": "python",
   "pygments_lexer": "ipython3",
   "version": "3.10.9"
  }
 },
 "nbformat": 4,
 "nbformat_minor": 5
}
